{
 "cells": [
  {
   "cell_type": "code",
   "execution_count": null,
   "id": "6c923d84",
   "metadata": {},
   "outputs": [],
   "source": [
    "# Plotting missing value\n",
    "colors=['#7393B3' if (x < max(null)) else '#ADD8E6' for x in null]\n",
    "sns.set_style(\"whitegrid\")\n",
    "sns.set_context('paper')\n",
    "sns.barplot(x=null.index, y=null, palette=colors)\n",
    "plt.xticks(rotation=45)\n",
    "plt.tight_layout()\n",
    "plt.show()"
   ]
  }
 ],
 "metadata": {
  "kernelspec": {
   "display_name": "Python 3 (ipykernel)",
   "language": "python",
   "name": "python3"
  },
  "language_info": {
   "codemirror_mode": {
    "name": "ipython",
    "version": 3
   },
   "file_extension": ".py",
   "mimetype": "text/x-python",
   "name": "python",
   "nbconvert_exporter": "python",
   "pygments_lexer": "ipython3",
   "version": "3.9.12"
  }
 },
 "nbformat": 4,
 "nbformat_minor": 5
}
